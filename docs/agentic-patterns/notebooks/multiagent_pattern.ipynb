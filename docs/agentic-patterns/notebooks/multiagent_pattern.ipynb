{
 "cells": [
  {
   "cell_type": "markdown",
   "id": "0acdc7c0-61bd-45a1-a040-df05c67ab0b2",
   "metadata": {},
   "source": [
    "# Multiagent Pattern - Multiagent Collaboration"
   ]
  },
  {
   "cell_type": "markdown",
   "id": "7ba71f3e-5421-4dd7-bc63-e3fcdf2680a6",
   "metadata": {},
   "source": [
    "<img src=\"../img/multiagent_pattern.png\" alt=\"Alt text\" width=\"500\"/>\n"
   ]
  },
  {
   "cell_type": "markdown",
   "id": "f786e114-cde4-400e-8781-fb7f48bd072c",
   "metadata": {},
   "source": [
    "## The Agent Class"
   ]
  },
  {
   "cell_type": "markdown",
   "id": "ec27b59f-82c6-4b21-917c-fa6d64c1e614",
   "metadata": {},
   "source": [
    "First of all, we need an **Agent Class**. This class implements an\n",
    "Agent, and internally it implements the ReAct technique."
   ]
  },
  {
   "cell_type": "code",
   "execution_count": null,
   "id": "69780ba5-c321-4d71-b0aa-35b1d6c55ff3",
   "metadata": {},
   "outputs": [],
   "source": [
    "from ai_custom_utils.agentic_patterns.multiagent_pattern.agent import Agent"
   ]
  },
  {
   "cell_type": "markdown",
   "id": "6ba412fb-9604-4146-93bb-ed0451c529f8",
   "metadata": {},
   "source": [
    "Let's create some example agent, to see how it works."
   ]
  },
  {
   "cell_type": "code",
   "execution_count": null,
   "id": "3aa589d5-7825-4fe0-a269-f35474bf6da5",
   "metadata": {},
   "outputs": [],
   "source": [
    "agent_example = Agent(\n",
    "    name=\"Poet Agent\",\n",
    "    backstory=\"You are a well-known poet, who enjoys creating high quality poetry.\",\n",
    "    task_description=\"Write a poem about the meaning of life\",\n",
    "    task_expected_output=\"Just output the poem, without any title or introductory sentences\",\n",
    ")"
   ]
  },
  {
   "cell_type": "code",
   "execution_count": null,
   "id": "fd71e1e3-893f-40e1-b6c5-f15e42beb851",
   "metadata": {},
   "outputs": [],
   "source": [
    "print(agent_example.run())"
   ]
  },
  {
   "cell_type": "markdown",
   "id": "026c6229-5833-4a99-afa6-e45cc72fb04d",
   "metadata": {},
   "source": [
    "## Defining Agent Dependencies"
   ]
  },
  {
   "cell_type": "markdown",
   "id": "ab6688e9-1fdf-4b51-bb33-c63c80ce9bb7",
   "metadata": {},
   "source": [
    "Let's define two agents now."
   ]
  },
  {
   "cell_type": "code",
   "execution_count": null,
   "id": "bf142278-b556-42cb-9a5e-2761af96f5c0",
   "metadata": {},
   "outputs": [],
   "source": [
    "agent_1 = Agent(\n",
    "    name=\"Poet Agent\",\n",
    "    backstory=\"You are a well-known poet, who enjoys creating high quality poetry.\",\n",
    "    task_description=\"Write a poem about the meaning of life\",\n",
    "    task_expected_output=\"Just output the poem, without any title or introductory sentences\",\n",
    ")\n",
    "\n",
    "agent_2 = Agent(\n",
    "    name=\"Poem Translator Agent\",\n",
    "    backstory=\"You are an expert translator especially skilled in Ancient Greek\",\n",
    "    task_description=\"Translate a poem into Ancient Greek\", \n",
    "    task_expected_output=\"Just output the translated poem and nothing else\"\n",
    ")"
   ]
  },
  {
   "cell_type": "markdown",
   "id": "565d174d-ab42-4318-b53a-1ed142512f4f",
   "metadata": {},
   "source": [
    "We can define the agent dependencies using the `>>` operator."
   ]
  },
  {
   "cell_type": "code",
   "execution_count": null,
   "id": "f52347ac-99b3-4695-a6a4-cf31f7784826",
   "metadata": {},
   "outputs": [],
   "source": [
    "agent_1 >> agent_2"
   ]
  },
  {
   "cell_type": "markdown",
   "id": "603e5a0d-25ef-4fdf-8ed8-63bd50f90cfd",
   "metadata": {},
   "source": [
    "This means `agent_2` depends on `agent_1`. We can check the dependencies and dependents of both agents."
   ]
  },
  {
   "cell_type": "code",
   "execution_count": null,
   "id": "560148d0-ae20-45ba-b22f-938eda0be64d",
   "metadata": {},
   "outputs": [],
   "source": [
    "print(\"Agent 1 dependencies: \", agent_1.dependencies)\n",
    "print(\"Agent 1 dependents: \", agent_1.dependents)\n",
    "print(\"Agent 2 dependencies: \", agent_2.dependencies)\n",
    "print(\"Agent 2 dependents: \", agent_2.dependents)"
   ]
  },
  {
   "cell_type": "markdown",
   "id": "e9276064-136c-49bc-ae95-4d2b2ba47187",
   "metadata": {},
   "source": [
    "Now, if we run `agent_1`, the results will be added to `agent_2`'s context."
   ]
  },
  {
   "cell_type": "code",
   "execution_count": null,
   "id": "26f58fda-3673-4067-ad0b-a4055a476a32",
   "metadata": {},
   "outputs": [],
   "source": [
    "print(agent_1.run())"
   ]
  },
  {
   "cell_type": "code",
   "execution_count": null,
   "id": "cd3dccc9-c201-4a70-bebf-1b9b83b7f59d",
   "metadata": {},
   "outputs": [],
   "source": [
    "print(agent_2.context)"
   ]
  },
  {
   "cell_type": "markdown",
   "id": "b4019dd7-b79f-4595-8104-9a47c64e4ba4",
   "metadata": {},
   "source": [
    "Now, if we run the second agent, it will use the context received from the previous agent to generate its output."
   ]
  },
  {
   "cell_type": "code",
   "execution_count": null,
   "id": "a686cefc-db4f-4eb4-9e93-11bdbdd30d6d",
   "metadata": {},
   "outputs": [],
   "source": [
    "print(agent_2.run())"
   ]
  }
 ],
 "metadata": {
  "kernelspec": {
   "display_name": "building-software-on-top-of-llm",
   "language": "python",
   "name": "python3"
  },
  "language_info": {
   "codemirror_mode": {
    "name": "ipython",
    "version": 3
   },
   "file_extension": ".py",
   "mimetype": "text/x-python",
   "name": "python",
   "nbconvert_exporter": "python",
   "pygments_lexer": "ipython3",
   "version": "3.12.0"
  }
 },
 "nbformat": 4,
 "nbformat_minor": 5
}
